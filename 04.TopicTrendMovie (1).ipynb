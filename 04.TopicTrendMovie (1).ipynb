{
 "cells": [
  {
   "cell_type": "code",
   "execution_count": 1,
   "metadata": {},
   "outputs": [],
   "source": [
    "import matplotlib\n",
    "%matplotlib inline\n",
    "import pandas as pd"
   ]
  },
  {
   "cell_type": "code",
   "execution_count": 5,
   "metadata": {},
   "outputs": [],
   "source": [
    "data = pd.read_csv(\"C:/Users/Seo/perfume7_include_brand.csv\", header=None, names=['review', 'price', 'brand', 'name']) #read data"
   ]
  },
  {
   "cell_type": "code",
   "execution_count": 6,
   "metadata": {},
   "outputs": [
    {
     "name": "stdout",
     "output_type": "stream",
     "text": [
      "0 review\n",
      "1 price\n",
      "2 brand\n",
      "3 name\n"
     ]
    }
   ],
   "source": [
    "for ix, name in enumerate(data.columns):\n",
    "    print(ix,name)"
   ]
  },
  {
   "cell_type": "code",
   "execution_count": 7,
   "metadata": {},
   "outputs": [
    {
     "data": {
      "text/html": [
       "<div>\n",
       "<style scoped>\n",
       "    .dataframe tbody tr th:only-of-type {\n",
       "        vertical-align: middle;\n",
       "    }\n",
       "\n",
       "    .dataframe tbody tr th {\n",
       "        vertical-align: top;\n",
       "    }\n",
       "\n",
       "    .dataframe thead th {\n",
       "        text-align: right;\n",
       "    }\n",
       "</style>\n",
       "<table border=\"1\" class=\"dataframe\">\n",
       "  <thead>\n",
       "    <tr style=\"text-align: right;\">\n",
       "      <th></th>\n",
       "      <th>review</th>\n",
       "      <th>price</th>\n",
       "      <th>brand</th>\n",
       "      <th>name</th>\n",
       "    </tr>\n",
       "  </thead>\n",
       "  <tbody>\n",
       "    <tr>\n",
       "      <th>0</th>\n",
       "      <td>여름이여서 바깥 외출시에 향수를 뿌리면 주위에 향이 너무 쎄게 빨리 퍼지기 때문에 ...</td>\n",
       "      <td>30,600</td>\n",
       "      <td>유즈</td>\n",
       "      <td>유즈 솔리드 퍼퓸 002 스테이포에버 30ml</td>\n",
       "    </tr>\n",
       "    <tr>\n",
       "      <th>1</th>\n",
       "      <td>아주 고급스런 비누향입니다. 손을 자주 씻는 직업이라... 목에서 귀 뒷부분으로 경...</td>\n",
       "      <td>30,600</td>\n",
       "      <td>유즈</td>\n",
       "      <td>유즈 솔리드 퍼퓸 002 스테이포에버 30ml</td>\n",
       "    </tr>\n",
       "    <tr>\n",
       "      <th>2</th>\n",
       "      <td>예전에도 이런 류의 고체향수 몇개 써봤던 사람입니다! Sns 홍보를 많이해서 사봤는...</td>\n",
       "      <td>30,600</td>\n",
       "      <td>유즈</td>\n",
       "      <td>유즈 솔리드 퍼퓸 002 스테이포에버 30ml</td>\n",
       "    </tr>\n",
       "    <tr>\n",
       "      <th>3</th>\n",
       "      <td>유즈라는 브랜드 덕분에 고체향수를 알게되었고, 저번 올영체험단에서 헤어퍼퓸을 써보고...</td>\n",
       "      <td>30,600</td>\n",
       "      <td>유즈</td>\n",
       "      <td>유즈 솔리드 퍼퓸 002 스테이포에버 30ml</td>\n",
       "    </tr>\n",
       "    <tr>\n",
       "      <th>4</th>\n",
       "      <td>헐 !! 헐 !!!! 이거 모에요??  그냥 혹시나 해서 구매 했는데.. 저 더 살...</td>\n",
       "      <td>30,600</td>\n",
       "      <td>유즈</td>\n",
       "      <td>유즈 솔리드 퍼퓸 002 스테이포에버 30ml</td>\n",
       "    </tr>\n",
       "  </tbody>\n",
       "</table>\n",
       "</div>"
      ],
      "text/plain": [
       "                                              review   price brand  \\\n",
       "0  여름이여서 바깥 외출시에 향수를 뿌리면 주위에 향이 너무 쎄게 빨리 퍼지기 때문에 ...  30,600    유즈   \n",
       "1  아주 고급스런 비누향입니다. 손을 자주 씻는 직업이라... 목에서 귀 뒷부분으로 경...  30,600    유즈   \n",
       "2  예전에도 이런 류의 고체향수 몇개 써봤던 사람입니다! Sns 홍보를 많이해서 사봤는...  30,600    유즈   \n",
       "3  유즈라는 브랜드 덕분에 고체향수를 알게되었고, 저번 올영체험단에서 헤어퍼퓸을 써보고...  30,600    유즈   \n",
       "4  헐 !! 헐 !!!! 이거 모에요??  그냥 혹시나 해서 구매 했는데.. 저 더 살...  30,600    유즈   \n",
       "\n",
       "                        name  \n",
       "0  유즈 솔리드 퍼퓸 002 스테이포에버 30ml  \n",
       "1  유즈 솔리드 퍼퓸 002 스테이포에버 30ml  \n",
       "2  유즈 솔리드 퍼퓸 002 스테이포에버 30ml  \n",
       "3  유즈 솔리드 퍼퓸 002 스테이포에버 30ml  \n",
       "4  유즈 솔리드 퍼퓸 002 스테이포에버 30ml  "
      ]
     },
     "execution_count": 7,
     "metadata": {},
     "output_type": "execute_result"
    }
   ],
   "source": [
    "data.head()"
   ]
  },
  {
   "cell_type": "code",
   "execution_count": 8,
   "metadata": {},
   "outputs": [
    {
     "data": {
      "text/plain": [
       "pandas.core.series.Series"
      ]
     },
     "execution_count": 8,
     "metadata": {},
     "output_type": "execute_result"
    }
   ],
   "source": [
    "data.review.shape\n",
    "type(data.review)"
   ]
  },
  {
   "cell_type": "code",
   "execution_count": 9,
   "metadata": {},
   "outputs": [],
   "source": [
    "from konlpy.tag import Okt #konlpy에서 Twitter 형태소 분석기를 import\n",
    "twitter_tag = Okt()\n",
    "\n",
    "def tokenizer(str):\n",
    "    return [token for token in twitter_tag.nouns(str) if len(token) > 1]"
   ]
  },
  {
   "cell_type": "code",
   "execution_count": 10,
   "metadata": {},
   "outputs": [],
   "source": [
    "from sklearn.feature_extraction.text import CountVectorizer\n",
    "\n",
    "vec = CountVectorizer(tokenizer=tokenizer, #우선은 명사만 사용\n",
    "                      decode_error ='ignore', \n",
    "                      max_df=0.5, #너무 자주 나타나는 단어는 제외, 책에서는 0.15를 사용\n",
    "                      #min_df = 3, #3개 미만의 문서에서 나타난 단어는 제외, 여기서는 max_features를 1000으로 제한하므로 별 필요 없음\n",
    "                      max_features = 1000) #적당한 대상 단어 수를 선택\n",
    "review_cv = vec.fit_transform(data.review)"
   ]
  },
  {
   "cell_type": "code",
   "execution_count": 11,
   "metadata": {},
   "outputs": [
    {
     "data": {
      "text/plain": [
       "(972, 1000)"
      ]
     },
     "execution_count": 11,
     "metadata": {},
     "output_type": "execute_result"
    }
   ],
   "source": [
    "review_cv.shape"
   ]
  },
  {
   "cell_type": "code",
   "execution_count": 12,
   "metadata": {},
   "outputs": [],
   "source": [
    "from sklearn.decomposition import LatentDirichletAllocation\n",
    "\n",
    "lda = LatentDirichletAllocation(n_components = 10, #추출할 topic의 수를 지정\n",
    "                                max_iter=25, #max_iter는 최종 모형에서는 5,000~10,000번 시도한다고 알려져 있음\n",
    "                                topic_word_prior= 0.1, doc_topic_prior=1.0,\n",
    "                                #topic_word_prior: beta, doc_topic_prior: alpha\n",
    "                                #일반적으로 beta는 0.1로 고정하고 alpha를 50/topic의 수 근처의 값을 시도\n",
    "                                #alpha와 beta는 낮은 값을 사용할수록 특정 토픽들이 두드러지도록 하는 효과가 있다고 합\n",
    "                                learning_method='batch', #'batch'는 'online'에 비해 더 성능이 좋고 느림, 현재는 default\n",
    "                                n_jobs= -1, #사용 processor 수, None이면 1, -1이면 모두 사용\n",
    "                                random_state=0)\n",
    "\n",
    "review_topics = lda.fit_transform(review_cv)"
   ]
  },
  {
   "cell_type": "code",
   "execution_count": 13,
   "metadata": {},
   "outputs": [
    {
     "name": "stdout",
     "output_type": "stream",
     "text": [
      "(972, 10)\n"
     ]
    },
    {
     "data": {
      "text/plain": [
       "numpy.ndarray"
      ]
     },
     "execution_count": 13,
     "metadata": {},
     "output_type": "execute_result"
    }
   ],
   "source": [
    "print(review_topics.shape)\n",
    "type(review_topics)"
   ]
  },
  {
   "cell_type": "code",
   "execution_count": 14,
   "metadata": {},
   "outputs": [],
   "source": [
    "def print_top_words(model, feature_names, n_top_words):\n",
    "    for topic_idx, topic in enumerate(model.components_):\n",
    "        print(\"Topic #%d: \" % topic_idx, end='')\n",
    "        print(\", \".join([feature_names[i] for i in topic.argsort()[:-n_top_words - 1:-1]]))\n",
    "        #print(\", \".join([feature_names[i]+'('+str(topic[i])+')' for i in topic.argsort()[:-n_top_words - 1:-1]]))\n",
    "        # 위 slicing에서 맨 뒤 -1은 역순을 의미, 역순으로 했을 때 처음부터 n_top_words까지\n",
    "    print()"
   ]
  },
  {
   "cell_type": "code",
   "execution_count": 15,
   "metadata": {},
   "outputs": [
    {
     "name": "stdout",
     "output_type": "stream",
     "text": [
      "Topic #0: 냄새, 향수, 코튼, 뿌리, 클린, 사람, 호불호, 남자, 남자친구, 역시\n",
      "Topic #1: 정도, 지속, 가격, 파우더, 그냥, 가지, 꽃향, 향수, 시간, 기대\n",
      "Topic #2: 향수, 고체, 크림, 핸드, 타입, 제품, 승무원, 평소, 이건, 휴대\n",
      "Topic #3: 진짜, 비누, 무난, 향수, 하나, 완전, 섬유, 유연제, 만족, 지속\n",
      "Topic #4: 선물, 포장, 배송, 상품, 친구, 주문, 다만, 다음, 비누, 박스\n",
      "Topic #5: 느낌, 향수, 비누, 아주, 사용, 기분, 부담, 살짝, 자주, 머리\n",
      "Topic #6: 사용, 정말, 처음, 조금, 향수, 추천, 여름, 지속, 별로, 마음\n",
      "Topic #7: 지속, 생각, 향기, 매장, 편이, 다른, 취향, 패키지, 고민, 마음\n",
      "Topic #8: 머스크, 향수, 느낌, 잔향, 중성, 여성, 처음, 뿌리, 약간, 사용\n",
      "Topic #9: 구매, 제품, 보고, 구입, 광고, 올리브영, 한번, 샘플, 후기, 온라인\n",
      "\n"
     ]
    }
   ],
   "source": [
    "print_top_words(lda,vec.get_feature_names(), 10)"
   ]
  },
  {
   "cell_type": "code",
   "execution_count": 16,
   "metadata": {},
   "outputs": [],
   "source": [
    "trend_data = pd.DataFrame(review_topics, columns=['topic'+str(i) for i in range(1, 11)])"
   ]
  },
  {
   "cell_type": "code",
   "execution_count": 17,
   "metadata": {},
   "outputs": [
    {
     "data": {
      "text/html": [
       "<div>\n",
       "<style scoped>\n",
       "    .dataframe tbody tr th:only-of-type {\n",
       "        vertical-align: middle;\n",
       "    }\n",
       "\n",
       "    .dataframe tbody tr th {\n",
       "        vertical-align: top;\n",
       "    }\n",
       "\n",
       "    .dataframe thead th {\n",
       "        text-align: right;\n",
       "    }\n",
       "</style>\n",
       "<table border=\"1\" class=\"dataframe\">\n",
       "  <thead>\n",
       "    <tr style=\"text-align: right;\">\n",
       "      <th></th>\n",
       "      <th>topic1</th>\n",
       "      <th>topic2</th>\n",
       "      <th>topic3</th>\n",
       "      <th>topic4</th>\n",
       "      <th>topic5</th>\n",
       "      <th>topic6</th>\n",
       "      <th>topic7</th>\n",
       "      <th>topic8</th>\n",
       "      <th>topic9</th>\n",
       "      <th>topic10</th>\n",
       "    </tr>\n",
       "  </thead>\n",
       "  <tbody>\n",
       "    <tr>\n",
       "      <th>0</th>\n",
       "      <td>0.017259</td>\n",
       "      <td>0.476744</td>\n",
       "      <td>0.145779</td>\n",
       "      <td>0.028009</td>\n",
       "      <td>0.010132</td>\n",
       "      <td>0.085035</td>\n",
       "      <td>0.113548</td>\n",
       "      <td>0.015656</td>\n",
       "      <td>0.019021</td>\n",
       "      <td>0.088817</td>\n",
       "    </tr>\n",
       "    <tr>\n",
       "      <th>1</th>\n",
       "      <td>0.020920</td>\n",
       "      <td>0.123638</td>\n",
       "      <td>0.162582</td>\n",
       "      <td>0.156902</td>\n",
       "      <td>0.020879</td>\n",
       "      <td>0.216018</td>\n",
       "      <td>0.073382</td>\n",
       "      <td>0.108210</td>\n",
       "      <td>0.095065</td>\n",
       "      <td>0.022402</td>\n",
       "    </tr>\n",
       "    <tr>\n",
       "      <th>2</th>\n",
       "      <td>0.033875</td>\n",
       "      <td>0.167057</td>\n",
       "      <td>0.134790</td>\n",
       "      <td>0.391035</td>\n",
       "      <td>0.033236</td>\n",
       "      <td>0.082941</td>\n",
       "      <td>0.035975</td>\n",
       "      <td>0.022170</td>\n",
       "      <td>0.074414</td>\n",
       "      <td>0.024507</td>\n",
       "    </tr>\n",
       "    <tr>\n",
       "      <th>3</th>\n",
       "      <td>0.031016</td>\n",
       "      <td>0.077663</td>\n",
       "      <td>0.275120</td>\n",
       "      <td>0.014770</td>\n",
       "      <td>0.021867</td>\n",
       "      <td>0.029076</td>\n",
       "      <td>0.050194</td>\n",
       "      <td>0.430814</td>\n",
       "      <td>0.020733</td>\n",
       "      <td>0.048748</td>\n",
       "    </tr>\n",
       "    <tr>\n",
       "      <th>4</th>\n",
       "      <td>0.133998</td>\n",
       "      <td>0.131255</td>\n",
       "      <td>0.330351</td>\n",
       "      <td>0.162287</td>\n",
       "      <td>0.049135</td>\n",
       "      <td>0.026998</td>\n",
       "      <td>0.031975</td>\n",
       "      <td>0.020392</td>\n",
       "      <td>0.031081</td>\n",
       "      <td>0.082528</td>\n",
       "    </tr>\n",
       "  </tbody>\n",
       "</table>\n",
       "</div>"
      ],
      "text/plain": [
       "     topic1    topic2    topic3    topic4    topic5    topic6    topic7  \\\n",
       "0  0.017259  0.476744  0.145779  0.028009  0.010132  0.085035  0.113548   \n",
       "1  0.020920  0.123638  0.162582  0.156902  0.020879  0.216018  0.073382   \n",
       "2  0.033875  0.167057  0.134790  0.391035  0.033236  0.082941  0.035975   \n",
       "3  0.031016  0.077663  0.275120  0.014770  0.021867  0.029076  0.050194   \n",
       "4  0.133998  0.131255  0.330351  0.162287  0.049135  0.026998  0.031975   \n",
       "\n",
       "     topic8    topic9   topic10  \n",
       "0  0.015656  0.019021  0.088817  \n",
       "1  0.108210  0.095065  0.022402  \n",
       "2  0.022170  0.074414  0.024507  \n",
       "3  0.430814  0.020733  0.048748  \n",
       "4  0.020392  0.031081  0.082528  "
      ]
     },
     "execution_count": 17,
     "metadata": {},
     "output_type": "execute_result"
    }
   ],
   "source": [
    "trend_data.head()"
   ]
  },
  {
   "cell_type": "code",
   "execution_count": 20,
   "metadata": {},
   "outputs": [],
   "source": [
    "trend_data = pd.concat([trend_data, data.brand], axis=1)"
   ]
  },
  {
   "cell_type": "code",
   "execution_count": 21,
   "metadata": {},
   "outputs": [
    {
     "data": {
      "text/plain": [
       "(972, 11)"
      ]
     },
     "execution_count": 21,
     "metadata": {},
     "output_type": "execute_result"
    }
   ],
   "source": [
    "trend_data.shape"
   ]
  },
  {
   "cell_type": "code",
   "execution_count": 22,
   "metadata": {},
   "outputs": [
    {
     "data": {
      "text/html": [
       "<div>\n",
       "<style scoped>\n",
       "    .dataframe tbody tr th:only-of-type {\n",
       "        vertical-align: middle;\n",
       "    }\n",
       "\n",
       "    .dataframe tbody tr th {\n",
       "        vertical-align: top;\n",
       "    }\n",
       "\n",
       "    .dataframe thead th {\n",
       "        text-align: right;\n",
       "    }\n",
       "</style>\n",
       "<table border=\"1\" class=\"dataframe\">\n",
       "  <thead>\n",
       "    <tr style=\"text-align: right;\">\n",
       "      <th></th>\n",
       "      <th>topic1</th>\n",
       "      <th>topic2</th>\n",
       "      <th>topic3</th>\n",
       "      <th>topic4</th>\n",
       "      <th>topic5</th>\n",
       "      <th>topic6</th>\n",
       "      <th>topic7</th>\n",
       "      <th>topic8</th>\n",
       "      <th>topic9</th>\n",
       "      <th>topic10</th>\n",
       "      <th>brand</th>\n",
       "    </tr>\n",
       "  </thead>\n",
       "  <tbody>\n",
       "    <tr>\n",
       "      <th>0</th>\n",
       "      <td>0.017259</td>\n",
       "      <td>0.476744</td>\n",
       "      <td>0.145779</td>\n",
       "      <td>0.028009</td>\n",
       "      <td>0.010132</td>\n",
       "      <td>0.085035</td>\n",
       "      <td>0.113548</td>\n",
       "      <td>0.015656</td>\n",
       "      <td>0.019021</td>\n",
       "      <td>0.088817</td>\n",
       "      <td>유즈</td>\n",
       "    </tr>\n",
       "    <tr>\n",
       "      <th>1</th>\n",
       "      <td>0.020920</td>\n",
       "      <td>0.123638</td>\n",
       "      <td>0.162582</td>\n",
       "      <td>0.156902</td>\n",
       "      <td>0.020879</td>\n",
       "      <td>0.216018</td>\n",
       "      <td>0.073382</td>\n",
       "      <td>0.108210</td>\n",
       "      <td>0.095065</td>\n",
       "      <td>0.022402</td>\n",
       "      <td>유즈</td>\n",
       "    </tr>\n",
       "    <tr>\n",
       "      <th>2</th>\n",
       "      <td>0.033875</td>\n",
       "      <td>0.167057</td>\n",
       "      <td>0.134790</td>\n",
       "      <td>0.391035</td>\n",
       "      <td>0.033236</td>\n",
       "      <td>0.082941</td>\n",
       "      <td>0.035975</td>\n",
       "      <td>0.022170</td>\n",
       "      <td>0.074414</td>\n",
       "      <td>0.024507</td>\n",
       "      <td>유즈</td>\n",
       "    </tr>\n",
       "    <tr>\n",
       "      <th>3</th>\n",
       "      <td>0.031016</td>\n",
       "      <td>0.077663</td>\n",
       "      <td>0.275120</td>\n",
       "      <td>0.014770</td>\n",
       "      <td>0.021867</td>\n",
       "      <td>0.029076</td>\n",
       "      <td>0.050194</td>\n",
       "      <td>0.430814</td>\n",
       "      <td>0.020733</td>\n",
       "      <td>0.048748</td>\n",
       "      <td>유즈</td>\n",
       "    </tr>\n",
       "    <tr>\n",
       "      <th>4</th>\n",
       "      <td>0.133998</td>\n",
       "      <td>0.131255</td>\n",
       "      <td>0.330351</td>\n",
       "      <td>0.162287</td>\n",
       "      <td>0.049135</td>\n",
       "      <td>0.026998</td>\n",
       "      <td>0.031975</td>\n",
       "      <td>0.020392</td>\n",
       "      <td>0.031081</td>\n",
       "      <td>0.082528</td>\n",
       "      <td>유즈</td>\n",
       "    </tr>\n",
       "  </tbody>\n",
       "</table>\n",
       "</div>"
      ],
      "text/plain": [
       "     topic1    topic2    topic3    topic4    topic5    topic6    topic7  \\\n",
       "0  0.017259  0.476744  0.145779  0.028009  0.010132  0.085035  0.113548   \n",
       "1  0.020920  0.123638  0.162582  0.156902  0.020879  0.216018  0.073382   \n",
       "2  0.033875  0.167057  0.134790  0.391035  0.033236  0.082941  0.035975   \n",
       "3  0.031016  0.077663  0.275120  0.014770  0.021867  0.029076  0.050194   \n",
       "4  0.133998  0.131255  0.330351  0.162287  0.049135  0.026998  0.031975   \n",
       "\n",
       "     topic8    topic9   topic10 brand  \n",
       "0  0.015656  0.019021  0.088817    유즈  \n",
       "1  0.108210  0.095065  0.022402    유즈  \n",
       "2  0.022170  0.074414  0.024507    유즈  \n",
       "3  0.430814  0.020733  0.048748    유즈  \n",
       "4  0.020392  0.031081  0.082528    유즈  "
      ]
     },
     "execution_count": 22,
     "metadata": {},
     "output_type": "execute_result"
    }
   ],
   "source": [
    "trend_data.head()"
   ]
  },
  {
   "cell_type": "code",
   "execution_count": 24,
   "metadata": {},
   "outputs": [],
   "source": [
    "trend = trend_data.groupby(['brand']).mean()"
   ]
  },
  {
   "cell_type": "code",
   "execution_count": 25,
   "metadata": {},
   "outputs": [
    {
     "data": {
      "text/plain": [
       "(3, 10)"
      ]
     },
     "execution_count": 25,
     "metadata": {},
     "output_type": "execute_result"
    }
   ],
   "source": [
    "trend.shape"
   ]
  },
  {
   "cell_type": "code",
   "execution_count": 26,
   "metadata": {},
   "outputs": [
    {
     "data": {
      "text/html": [
       "<div>\n",
       "<style scoped>\n",
       "    .dataframe tbody tr th:only-of-type {\n",
       "        vertical-align: middle;\n",
       "    }\n",
       "\n",
       "    .dataframe tbody tr th {\n",
       "        vertical-align: top;\n",
       "    }\n",
       "\n",
       "    .dataframe thead th {\n",
       "        text-align: right;\n",
       "    }\n",
       "</style>\n",
       "<table border=\"1\" class=\"dataframe\">\n",
       "  <thead>\n",
       "    <tr style=\"text-align: right;\">\n",
       "      <th></th>\n",
       "      <th>topic1</th>\n",
       "      <th>topic2</th>\n",
       "      <th>topic3</th>\n",
       "      <th>topic4</th>\n",
       "      <th>topic5</th>\n",
       "      <th>topic6</th>\n",
       "      <th>topic7</th>\n",
       "      <th>topic8</th>\n",
       "      <th>topic9</th>\n",
       "      <th>topic10</th>\n",
       "    </tr>\n",
       "    <tr>\n",
       "      <th>brand</th>\n",
       "      <th></th>\n",
       "      <th></th>\n",
       "      <th></th>\n",
       "      <th></th>\n",
       "      <th></th>\n",
       "      <th></th>\n",
       "      <th></th>\n",
       "      <th></th>\n",
       "      <th></th>\n",
       "      <th></th>\n",
       "    </tr>\n",
       "  </thead>\n",
       "  <tbody>\n",
       "    <tr>\n",
       "      <th>나르시소 로드리게즈</th>\n",
       "      <td>0.090660</td>\n",
       "      <td>0.081956</td>\n",
       "      <td>0.075956</td>\n",
       "      <td>0.087699</td>\n",
       "      <td>0.073200</td>\n",
       "      <td>0.083123</td>\n",
       "      <td>0.112530</td>\n",
       "      <td>0.097038</td>\n",
       "      <td>0.205050</td>\n",
       "      <td>0.092788</td>\n",
       "    </tr>\n",
       "    <tr>\n",
       "      <th>유즈</th>\n",
       "      <td>0.072352</td>\n",
       "      <td>0.112398</td>\n",
       "      <td>0.145351</td>\n",
       "      <td>0.083534</td>\n",
       "      <td>0.083588</td>\n",
       "      <td>0.106807</td>\n",
       "      <td>0.101947</td>\n",
       "      <td>0.097821</td>\n",
       "      <td>0.085665</td>\n",
       "      <td>0.110538</td>\n",
       "    </tr>\n",
       "    <tr>\n",
       "      <th>클린</th>\n",
       "      <td>0.123819</td>\n",
       "      <td>0.086011</td>\n",
       "      <td>0.084253</td>\n",
       "      <td>0.105585</td>\n",
       "      <td>0.114266</td>\n",
       "      <td>0.096078</td>\n",
       "      <td>0.103137</td>\n",
       "      <td>0.097535</td>\n",
       "      <td>0.083159</td>\n",
       "      <td>0.106157</td>\n",
       "    </tr>\n",
       "  </tbody>\n",
       "</table>\n",
       "</div>"
      ],
      "text/plain": [
       "              topic1    topic2    topic3    topic4    topic5    topic6  \\\n",
       "brand                                                                    \n",
       "나르시소 로드리게즈  0.090660  0.081956  0.075956  0.087699  0.073200  0.083123   \n",
       "유즈          0.072352  0.112398  0.145351  0.083534  0.083588  0.106807   \n",
       "클린          0.123819  0.086011  0.084253  0.105585  0.114266  0.096078   \n",
       "\n",
       "              topic7    topic8    topic9   topic10  \n",
       "brand                                               \n",
       "나르시소 로드리게즈  0.112530  0.097038  0.205050  0.092788  \n",
       "유즈          0.101947  0.097821  0.085665  0.110538  \n",
       "클린          0.103137  0.097535  0.083159  0.106157  "
      ]
     },
     "execution_count": 26,
     "metadata": {},
     "output_type": "execute_result"
    }
   ],
   "source": [
    "trend.head()"
   ]
  },
  {
   "cell_type": "code",
   "execution_count": 27,
   "metadata": {},
   "outputs": [
    {
     "data": {
      "text/plain": [
       "3"
      ]
     },
     "execution_count": 27,
     "metadata": {},
     "output_type": "execute_result"
    }
   ],
   "source": [
    "len(set(trend_data.brand))"
   ]
  },
  {
   "cell_type": "code",
   "execution_count": 28,
   "metadata": {},
   "outputs": [],
   "source": [
    "#jupyter에서 matplotlib을 사용해 만든 graph를 화면에 표시하기 위해 필요\n",
    "%matplotlib inline \n",
    "\n",
    "import matplotlib.pyplot as plt\n",
    "\n",
    "#아래는 한글을 사용할 때 깨지는 문제에 대한 해결\n",
    "from matplotlib import font_manager, rc\n",
    "font_name = font_manager.FontProperties(fname=\"c:/Windows/Fonts/malgun.ttf\").get_name()\n",
    "rc('font', family=font_name)\n",
    "\n",
    "#그래프의 축 등에서 음수를 표시할 때 minus sign이 깨지는 것 해결\n",
    "import matplotlib as mpl\n",
    "mpl.rcParams['axes.unicode_minus'] = False"
   ]
  },
  {
   "cell_type": "code",
   "execution_count": 29,
   "metadata": {},
   "outputs": [
    {
     "data": {
      "image/png": "[encoded data removed]",
      "text/plain": [
       "<Figure size 432x288 with 1 Axes>"
      ]
     },
     "metadata": {},
     "output_type": "display_data"
    }
   ],
   "source": [
    "plt.plot(trend.index[:100], trend.topic1[:100])\n",
    "plt.show()"
   ]
  },
  {
   "cell_type": "code",
   "execution_count": null,
   "metadata": {},
   "outputs": [],
   "source": []
  }
 ],
 "metadata": {
  "kernelspec": {
   "display_name": "Python 3",
   "language": "python",
   "name": "python3"
  },
  "language_info": {
   "codemirror_mode": {
    "name": "ipython",
    "version": 3
   },
   "file_extension": ".py",
   "mimetype": "text/x-python",
   "name": "python",
   "nbconvert_exporter": "python",
   "pygments_lexer": "ipython3",
   "version": "3.6.5"
  }
 },
 "nbformat": 4,
 "nbformat_minor": 2
}
